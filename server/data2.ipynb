{
 "cells": [
  {
   "cell_type": "code",
   "execution_count": 5,
   "id": "15b6c8cd-5ecb-47d2-a618-626e25905d4b",
   "metadata": {},
   "outputs": [],
   "source": [
    "import pandas as pd\n",
    "from typing import List\n",
    "from app.domains.models import Legislator, LegislatorVotes\n",
    "from app.utils.csv_paths import *"
   ]
  },
  {
   "cell_type": "code",
   "execution_count": 49,
   "id": "7824c297-861c-4b48-bead-ba55ceef208b",
   "metadata": {},
   "outputs": [],
   "source": [
    "legislator_votes: List[LegislatorVotes] = []\n",
    "\n",
    "# read all csv files\n",
    "bills = pd.read_csv(BILLS_DATA, nrows=100, usecols=[\"id\", \"title\", \"sponsor_id\"])\n",
    "votes = pd.read_csv(VOTES_DATA, nrows=100, usecols=[\"id\", \"bill_id\"])\n",
    "legislators = pd.read_csv(LEGISLATORS_DATA, nrows=100, usecols=[\"id\", \"name\"])\n",
    "vote_results = pd.read_csv(\n",
    "    VOTES_RESULTS_DATA, nrows=100, index_col=[\"id\"]\n",
    ")\n",
    "\n",
    "results = legislators.merge(vote_results, left_on=\"id\", right_on=\"legislator_id\")\n",
    "for _, row in results.iterrows():\n",
    "    legislator_votes.append(\n",
    "        LegislatorVotes(\n",
    "            id=row[\"id\"], legislator=row[\"name\"], supported_bills=0, opposed_bills=0\n",
    "        )\n",
    "    )"
   ]
  },
  {
   "cell_type": "code",
   "execution_count": 48,
   "id": "292ef0a0-2f32-488b-afe4-8de4b02d85e0",
   "metadata": {},
   "outputs": [
    {
     "data": {
      "text/html": [
       "<div>\n",
       "<style scoped>\n",
       "    .dataframe tbody tr th:only-of-type {\n",
       "        vertical-align: middle;\n",
       "    }\n",
       "\n",
       "    .dataframe tbody tr th {\n",
       "        vertical-align: top;\n",
       "    }\n",
       "\n",
       "    .dataframe thead th {\n",
       "        text-align: right;\n",
       "    }\n",
       "</style>\n",
       "<table border=\"1\" class=\"dataframe\">\n",
       "  <thead>\n",
       "    <tr style=\"text-align: right;\">\n",
       "      <th></th>\n",
       "      <th>legislator_id</th>\n",
       "      <th>vote_id</th>\n",
       "      <th>vote_type</th>\n",
       "    </tr>\n",
       "    <tr>\n",
       "      <th>id</th>\n",
       "      <th></th>\n",
       "      <th></th>\n",
       "      <th></th>\n",
       "    </tr>\n",
       "  </thead>\n",
       "  <tbody>\n",
       "  </tbody>\n",
       "</table>\n",
       "</div>"
      ],
      "text/plain": [
       "Empty DataFrame\n",
       "Columns: [legislator_id, vote_id, vote_type]\n",
       "Index: []"
      ]
     },
     "execution_count": 48,
     "metadata": {},
     "output_type": "execute_result"
    }
   ],
   "source": [
    "vote_results.query(\"(vote_type == 1) & (legislator_id == 15138)\")"
   ]
  },
  {
   "cell_type": "code",
   "execution_count": 34,
   "id": "9809a434-3664-4bd6-80d5-5cf956239ca4",
   "metadata": {},
   "outputs": [
    {
     "data": {
      "text/plain": [
       "<NumpyExtensionArray>\n",
       "[1, 1, 1, 1, 1, 1, 1, 1, 1, 1, 1, 1, 1, 1, 1, 1, 1, 1, 1]\n",
       "Length: 19, dtype: int64"
      ]
     },
     "execution_count": 34,
     "metadata": {},
     "output_type": "execute_result"
    }
   ],
   "source": [
    "legis"
   ]
  },
  {
   "cell_type": "code",
   "execution_count": null,
   "id": "9c6d553d-5d21-46fc-b967-4197cedfbe26",
   "metadata": {},
   "outputs": [],
   "source": []
  }
 ],
 "metadata": {
  "kernelspec": {
   "display_name": "Python 3 (ipykernel)",
   "language": "python",
   "name": "python3"
  },
  "language_info": {
   "codemirror_mode": {
    "name": "ipython",
    "version": 3
   },
   "file_extension": ".py",
   "mimetype": "text/x-python",
   "name": "python",
   "nbconvert_exporter": "python",
   "pygments_lexer": "ipython3",
   "version": "3.11.9"
  }
 },
 "nbformat": 4,
 "nbformat_minor": 5
}
